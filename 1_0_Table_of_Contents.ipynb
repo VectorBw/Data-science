{
  "nbformat": 4,
  "nbformat_minor": 0,
  "metadata": {
    "colab": {
      "name": "1.0 - Table of Contents.ipynb",
      "version": "0.3.2",
      "provenance": [],
      "collapsed_sections": [],
      "include_colab_link": true
    },
    "kernelspec": {
      "name": "python3",
      "display_name": "Python 3"
    }
  },
  "cells": [
    {
      "cell_type": "markdown",
      "metadata": {
        "id": "view-in-github",
        "colab_type": "text"
      },
      "source": [
        "[View in Colaboratory](https://colab.research.google.com/github/VectorBw/Data-science/blob/master/1_0_Table_of_Contents.ipynb)"
      ]
    },
    {
      "metadata": {
        "id": "jD5ZDiSt58P2",
        "colab_type": "text"
      },
      "cell_type": "markdown",
      "source": [
        "[1.1 - Machine Learning - intro](https://colab.research.google.com/drive/1wyAD5yTeZdNmrMbMs01zmxc1FkqTBeBC)\n",
        "\n",
        "[1.2 - Machine Learning - K-nearest neighbors - Test set - Accuracy](https://colab.research.google.com/drive/1RjUEAg9ZLw3DuMFVOgL9H5M5Ju68AzLT)\n",
        "\n",
        "[1.3 - Machine Learning - Normalization](https://colab.research.google.com/drive/1dqzuzSrG9HOYXcjPvjMiFmi_RXEAjaUe)\n",
        "\n",
        "[1.4 - Machine Learning - Decision Trees - Overfitting](https://colab.research.google.com/drive/125vJ2Tp46GGPZ-H6GudqpD2LBodC8FU-)\n",
        "\n",
        "[1.5 - Machine Learning - Linear Regression - MSE - Gradient descent - Vectorization](https://colab.research.google.com/drive/1_aIbBP-Yu0jUra47BAzFwX-l81bOyW-G)\n",
        "\n",
        "[1.6 - Machine Learning - Regularization - Polynomial regression](https://colab.research.google.com/drive/1dpG6IRTB9YOI918hF4zM7aKARAnf1UK4)\n",
        "\n",
        "[1.7 - Machine Learning - Logistic Regression - Kernelized SVM](https://colab.research.google.com/drive/19tPKl79E6Xuf01-BpPeQK9BpP5C4ZzuX)\n",
        "\n",
        "[1.8 - Machine Learning - Cross validation - Validation curve](https://drive.google.com/file/d/1wL6gZei2n2Imjidku6pD37MURjLM7MzL/view?usp=sharing)\n",
        "\n",
        "[1.9 - Machine Learning - Evaluation Metrics - Confusion Matrix - Multiclass Evaluation](https://drive.google.com/file/d/1OlagQQMeEjAyYT73O5mBnLAySzMi8IDg)\n",
        "\n",
        "[1.10 - Machine Learning - Precision-Recall Curve - ROC Curve - Area Under Curve](https://drive.google.com/file/d/1SJwDGyaWQQf0eH_mOzhQ3cnnHeIVoriC/view?usp=sharing)\n",
        "\n",
        "[1.11 - Machine Learning - Model selection and optimization - Data Leakage](https://drive.google.com/file/d/18_KJGc3waTcAiyJci5bqz0i5D2Ks_bWf/view?usp=sharing)\n",
        "\n",
        "[ML - hands-on 1](https://colab.research.google.com/drive/1ycOpg0ZEL6geJk5X4uwtSUgqg-Lmm7cY) : Discover pandas, a useful library for treating tabular data. Try it out with a k-nearest neighbors classifier\n",
        "\n",
        "[ML - hands-on 2](https://colab.research.google.com/drive/16eo3nkOKe0nbMWPAmw-Nv1wyOiKRbVu5) : Pandas again, Polynomial regression, Decision tree\n",
        "\n",
        "[ML - hands-on 3](https://colab.research.google.com/drive/1IHBsHlqW18EZToovkGlH9IoFPWz2VOb7) : Pandas again, SVM, ROC-AUC curve. We did not have time to talk about that, and we probably won't. I might replace this hands-on with something else, or maybe I will switch directly to Deep Learning.\n"
      ]
    },
    {
      "metadata": {
        "id": "QmOs2qeW6-AO",
        "colab_type": "text"
      },
      "cell_type": "markdown",
      "source": [
        "[2.1 - Deep Learning - Dense Neural Networks - Tensorflow - Keras - PyTorch](https://drive.google.com/file/d/1-dPBExWJKxiNGi4w805DSZCoRd_JTqqr/view?usp=sharing)\n",
        "\n",
        "[2.2 - Deep Learning - DNN - Image Classification - Tensorboard](https://drive.google.com/file/d/1zURIay2Yy5aVdq49-0UnFUtaWGAZqX-n/view?usp=sharing)\n",
        "\n",
        "[2.3 - Deep Learning - DNN - Vectorization - Activation functions - Backpropagation](https://drive.google.com/file/d/13UfDbSzVEOcgwkgxlg-1Ll0yfY7MXvv5/view?usp=sharing)\n",
        "\n",
        "[2.4 - Deep Learning - DNN - Dropout - Annealing and cyclical learning rates - Hyperparameters choice](https://drive.google.com/file/d/1Ygrs0hTB33USkSbktwRaelBxKWptAd2P/view?usp=sharing)\n",
        "\n",
        "[2.5 - Deep Learning - CNN](https://colab.research.google.com/drive/1VFYMK0YToeKAyT1ftcUaVa3vtkdyD0BC)\n",
        "\n",
        "[2.6 - Deep Learning - CNN - Common architectures - Transfer learning](https://colab.research.google.com/drive/1ps2uuxQjA-tBEjttWCXkw556mjAmArzX)\n",
        "\n",
        "[2.7 - Deep Learning - NN - Lack of theory - Observing layers of a CNN](https://colab.research.google.com/drive/1OTpphKPFR_x_6dghpLK39KSAbCQyJ0Dm)\n",
        "\n",
        "Starting from here, we are doing only Deep Learning, with Keras and sometimes numpy. Pandas becomes rarely used, usually only to load the data at the beginning of the notebooks.\n",
        "\n",
        "[DL - hands-on 1](https://colab.research.google.com/drive/1cUTDHRxpdR5MvdK4J3-fy7cJemrJMrjs) : Break a real world captcha\n",
        "\n",
        "DL - hands-on 2 : Train a neural network to recognize drawings, deploy it on a web site, and use it to recognize symbols on your smartphone that you draw with your finger\n",
        "\n",
        "DL - hands-on 3 : Improve the results of the transfer learning about Hot Dog / Not Hot Dog\n",
        "\n",
        "DL - hands-on 4 : Watch through the eyes of an autonomous car - Visualize what is exciting its neurons\n"
      ]
    },
    {
      "metadata": {
        "id": "HhCRggvw7hn2",
        "colab_type": "text"
      },
      "cell_type": "markdown",
      "source": [
        "\n",
        "[2.8 - Deep Learning - CNN - Autoencoders](https://colab.research.google.com/drive/1queCpuOB3JzUpQDCDqSfr5gCGkkXHqwY)\n",
        "\n",
        "[2.9 - Deep Learning - CNN - Generative Adversarial Networks](https://colab.research.google.com/drive/1IU_0C1R2fOnfNnQaCCdDXVSS2azCPovl)\n",
        "\n",
        "[3.1 - Reinforcement learning - Introduction](https://colab.research.google.com/drive/12qHGHhzwfYaVIzCOodTry4fViH9Cj-Up)\n",
        "\n",
        "[3.2 - Reinforcement learning - Tabular methods - Dynamic Programming](https://colab.research.google.com/drive/1r7nvDzAA3BGfCzO9k4gSIUHp47Zr7xTA)\n",
        "\n",
        "[3.3 - Reinforcement learning - Tabular methods - Monte Carlo - Temporal Difference](https://colab.research.google.com/drive/1JhBdUifHTD-nWSNAZ-8t30X7bX8BITgg)\n",
        "\n",
        "[3.4 - Reinforcement learning - Tabular methods - Improvements](https://colab.research.google.com/drive/1ce5V5AkRpnZct0kKRs_hOdxTPKntX3-U)\n",
        "\n",
        "[3.5 - Reinforcement learning - Tabular methods - MCTS](https://colab.research.google.com/drive/1CoqgbmrJJVF4-cLZ7g5_LAvGKFCvt3TA)\n",
        "\n",
        "[3.6 - Reinforcement learning - Deep Q-Networks](https://colab.research.google.com/drive/1nIy5xCSWh5QBOYlFVaXqKTdHn8wB_Scp)\n",
        "\n",
        "DL - hands-on 5 : Still to be decided: Deep Reinforcement Learning on a video game (maybe PPO or DQN on an Atari game) - Or a neuronal architecture to play Connect 4\n",
        "\n",
        "\n",
        "Please notice that this course does not cover many interesting fields, by lack of time: \n",
        "\n",
        "- in image analysis: object detection, image segmentation\n",
        "\n",
        "- recurrent neural networks: neural networks specialized in sequences. They are the basic bricks for language analysis, automatic translation, video and sound analysis\n",
        "\n",
        "- state of the art reinforcement learning: this course covers DQN, which was invented in 2014, but now we have better, for example PPO, which played DotA 2 against world champions this summer (and lost, humanity is safe for now !)\n",
        "\n"
      ]
    }
  ]
}